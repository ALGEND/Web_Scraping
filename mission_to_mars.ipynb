{
 "cells": [
  {
   "cell_type": "markdown",
   "metadata": {},
   "source": [
    "Mission to Mars"
   ]
  },
  {
   "cell_type": "code",
   "execution_count": 1,
   "metadata": {},
   "outputs": [
    {
     "name": "stdout",
     "output_type": "stream",
     "text": [
      "Requirement already satisfied: splinter in /Users/algend/anaconda3/lib/python3.6/site-packages (0.10.0)\n",
      "Requirement already satisfied: selenium>=3.141.0 in /Users/algend/anaconda3/lib/python3.6/site-packages (from splinter) (3.141.0)\n",
      "Requirement already satisfied: urllib3 in /Users/algend/anaconda3/lib/python3.6/site-packages (from selenium>=3.141.0->splinter) (1.23)\n"
     ]
    }
   ],
   "source": [
    "#Install Modules\n",
    "!pip install splinter\n",
    "#!pip install --user splinter\n",
    "#!pip install Ipython"
   ]
  },
  {
   "cell_type": "code",
   "execution_count": 2,
   "metadata": {},
   "outputs": [
    {
     "ename": "ModuleNotFoundError",
     "evalue": "No module named 'splinter'",
     "output_type": "error",
     "traceback": [
      "\u001b[0;31m---------------------------------------------------------------------------\u001b[0m",
      "\u001b[0;31mModuleNotFoundError\u001b[0m                       Traceback (most recent call last)",
      "\u001b[0;32m<ipython-input-2-efedfe6acfe3>\u001b[0m in \u001b[0;36m<module>\u001b[0;34m\u001b[0m\n\u001b[1;32m      1\u001b[0m \u001b[0;31m#Import Dependencies\u001b[0m\u001b[0;34m\u001b[0m\u001b[0;34m\u001b[0m\u001b[0;34m\u001b[0m\u001b[0m\n\u001b[1;32m      2\u001b[0m \u001b[0;32mfrom\u001b[0m \u001b[0mbs4\u001b[0m \u001b[0;32mimport\u001b[0m \u001b[0mBeautifulSoup\u001b[0m\u001b[0;34m\u001b[0m\u001b[0;34m\u001b[0m\u001b[0m\n\u001b[0;32m----> 3\u001b[0;31m \u001b[0;32mfrom\u001b[0m \u001b[0msplinter\u001b[0m \u001b[0;32mimport\u001b[0m \u001b[0mBrowser\u001b[0m\u001b[0;34m\u001b[0m\u001b[0;34m\u001b[0m\u001b[0m\n\u001b[0m\u001b[1;32m      4\u001b[0m \u001b[0;31m#from Ipython import Image\u001b[0m\u001b[0;34m\u001b[0m\u001b[0;34m\u001b[0m\u001b[0;34m\u001b[0m\u001b[0m\n\u001b[1;32m      5\u001b[0m \u001b[0;32mfrom\u001b[0m \u001b[0mselenium\u001b[0m \u001b[0;32mimport\u001b[0m \u001b[0mwebdriver\u001b[0m\u001b[0;34m\u001b[0m\u001b[0;34m\u001b[0m\u001b[0m\n",
      "\u001b[0;31mModuleNotFoundError\u001b[0m: No module named 'splinter'"
     ]
    }
   ],
   "source": [
    "#Import Dependencies\n",
    "from bs4 import BeautifulSoup \n",
    "from splinter import Browser\n",
    "#from Ipython import Image\n",
    "from selenium import webdriver\n",
    "import pandas as pd\n",
    "import time\n",
    "import shutil\n",
    "import requests"
   ]
  },
  {
   "cell_type": "code",
   "execution_count": 3,
   "metadata": {},
   "outputs": [
    {
     "name": "stdout",
     "output_type": "stream",
     "text": [
      "/usr/local/bin/chromedriver\r\n"
     ]
    }
   ],
   "source": [
    "#https://splinter.readthedocs.io/en/latest/drivers/chrome.html\n",
    "!which chromedriver"
   ]
  },
  {
   "cell_type": "code",
   "execution_count": 4,
   "metadata": {},
   "outputs": [
    {
     "ename": "NameError",
     "evalue": "name 'Browser' is not defined",
     "output_type": "error",
     "traceback": [
      "\u001b[0;31m---------------------------------------------------------------------------\u001b[0m",
      "\u001b[0;31mNameError\u001b[0m                                 Traceback (most recent call last)",
      "\u001b[0;32m<ipython-input-4-46abe33fffeb>\u001b[0m in \u001b[0;36m<module>\u001b[0;34m\u001b[0m\n\u001b[1;32m      1\u001b[0m \u001b[0;31m#Executable Driver Path\u001b[0m\u001b[0;34m\u001b[0m\u001b[0;34m\u001b[0m\u001b[0;34m\u001b[0m\u001b[0m\n\u001b[1;32m      2\u001b[0m \u001b[0mexecutable_path\u001b[0m\u001b[0;34m=\u001b[0m\u001b[0;34m{\u001b[0m\u001b[0;34m'executable_path'\u001b[0m\u001b[0;34m:\u001b[0m\u001b[0;34m'chromedriver.exe'\u001b[0m\u001b[0;34m}\u001b[0m\u001b[0;34m\u001b[0m\u001b[0;34m\u001b[0m\u001b[0m\n\u001b[0;32m----> 3\u001b[0;31m \u001b[0mbrowser\u001b[0m \u001b[0;34m=\u001b[0m \u001b[0mBrowser\u001b[0m\u001b[0;34m(\u001b[0m\u001b[0;34m'chrome'\u001b[0m\u001b[0;34m,\u001b[0m \u001b[0;34m**\u001b[0m\u001b[0mexecutable_path\u001b[0m\u001b[0;34m,\u001b[0m \u001b[0mheadless\u001b[0m\u001b[0;34m=\u001b[0m\u001b[0;32mFalse\u001b[0m\u001b[0;34m)\u001b[0m\u001b[0;34m\u001b[0m\u001b[0;34m\u001b[0m\u001b[0m\n\u001b[0m",
      "\u001b[0;31mNameError\u001b[0m: name 'Browser' is not defined"
     ]
    }
   ],
   "source": [
    "#Executable Driver Path\n",
    "executable_path={'executable_path':'chromedriver.exe'}\n",
    "browser = Browser('chrome', **executable_path, headless=False)"
   ]
  },
  {
   "cell_type": "markdown",
   "metadata": {},
   "source": [
    "NASA Mars News"
   ]
  },
  {
   "cell_type": "code",
   "execution_count": null,
   "metadata": {},
   "outputs": [],
   "source": [
    "#URL page visit\n",
    "url = \"https://mars.nasa.gov/news\"\n",
    "browser.visit(url)"
   ]
  },
  {
   "cell_type": "code",
   "execution_count": null,
   "metadata": {},
   "outputs": [],
   "source": [
    "#HTML n Soup Object\n",
    "html = browser.html\n",
    "soup = BeautifulSoup(html,'html.parser')"
   ]
  },
  {
   "cell_type": "code",
   "execution_count": null,
   "metadata": {},
   "outputs": [],
   "source": [
    "#Find text\n",
    "news_title = soup.find(\"div\", class_='content_title')find('a').text\n",
    "news_p = soup.find(\"div\", class_= 'article_teaser_body').text\n",
    "print(\"news_title\")\n",
    "print(\"news_p\")"
   ]
  },
  {
   "cell_type": "markdown",
   "metadata": {},
   "source": [
    "JPL Mars Space Images - Featured Image"
   ]
  },
  {
   "cell_type": "code",
   "execution_count": null,
   "metadata": {},
   "outputs": [],
   "source": [
    "#Website access\n",
    "main_img_url = \"https://www.jpl.nasa.gov/spaceimages/?search=&category=Mars\"\n",
    "browser.visit(main_img_url)\n"
   ]
  },
  {
   "cell_type": "code",
   "execution_count": null,
   "metadata": {},
   "outputs": [],
   "source": [
    "#HTML n Soup Object\n",
    "html = browser.html\n",
    "soup = BeautifulSoup(html,'html.parser')"
   ]
  },
  {
   "cell_type": "code",
   "execution_count": null,
   "metadata": {},
   "outputs": [],
   "source": [
    "#Specified path scraping\n",
    "#img_url=soup.find(\"img\", class=\"carousel_items\")\n",
    "#spec_path = soup.find('a', class_='button fancybox')[0].get('data-fancybox-href').strip()\n",
    "img_url = soup.find('div', class_='fancybox-inner fancybox-skin fancybox-dark-skin fancybox-dark-skin-open')['src']\n"
   ]
  },
  {
   "cell_type": "code",
   "execution_count": null,
   "metadata": {},
   "outputs": [],
   "source": [
    "#Featured Image full url link connecting\n",
    "feat_img_url=\"https://www.jpl.nasa.gov/spaceimages\" + img_url\n",
    "#Print full url link\n",
    "print(\"feat_img_url\")"
   ]
  },
  {
   "cell_type": "code",
   "execution_count": null,
   "metadata": {},
   "outputs": [],
   "source": [
    "#Request to download and save and display an image\n",
    "img_data = requests.get(feat_img_url).content\n",
    "with open('PIA16694_ip.jpg', 'wb') as handler:\n",
    "    handler.write(img_data)\n",
    "\n",
    "img = Image.open('PIA16694_ip.jpg')\n",
    "img.show()"
   ]
  },
  {
   "cell_type": "markdown",
   "metadata": {},
   "source": [
    "Mars Weather"
   ]
  },
  {
   "cell_type": "code",
   "execution_count": null,
   "metadata": {},
   "outputs": [],
   "source": [
    "#Website access\n",
    "main_wthr_url=\"https://twitter.com/marswxreport?lang=en\"\n",
    "browser.visit(main_wthr_url)"
   ]
  },
  {
   "cell_type": "code",
   "execution_count": null,
   "metadata": {},
   "outputs": [],
   "source": [
    "#HTML n Soup Object\n",
    "html = browser.html\n",
    "soup = BeautifulSoup(html,'html.parser')"
   ]
  },
  {
   "cell_type": "code",
   "execution_count": null,
   "metadata": {},
   "outputs": [],
   "source": [
    "#Find text\n",
    "mars_weather=soup.find(\"p\", class_=\"TweetTextSize TweetTextSize--normal js-tweet-text tweet-text\").text\n",
    "print(mars_weather)"
   ]
  },
  {
   "cell_type": "markdown",
   "metadata": {},
   "source": [
    "Mars Facts"
   ]
  },
  {
   "cell_type": "code",
   "execution_count": null,
   "metadata": {},
   "outputs": [],
   "source": [
    "#Website access\n",
    "main_facts_url=\"https://space-facts.com/mars/\"\n",
    "browser.visit(main_facts_url)"
   ]
  },
  {
   "cell_type": "code",
   "execution_count": null,
   "metadata": {},
   "outputs": [],
   "source": [
    "#HTML n Soup Object\n",
    "html = browser.html\n",
    "soup = BeautifulSoup(html,'html.parser')"
   ]
  },
  {
   "cell_type": "code",
   "execution_count": null,
   "metadata": {},
   "outputs": [],
   "source": [
    "#Find and create a Dataframe table and convert to Html string\n",
    "facts_tbl = soup.table.find_all('table', id=\"tablepress-mars\", class_=\"tablepress tablepress-id-mars\")\n",
    "column1= facts_tbl.find_all('td', class_='column-1')\n",
    "column2= facts_tbl.find_all('td', class_='column-2')\n",
    "\n",
    "measurements=[]\n",
    "units=[]\n",
    "\n",
    "for x in column1:\n",
    "    measure= x.text.strip()\n",
    "    measurements.append(measure)\n",
    "\n",
    "for x in column2:\n",
    "    unit= x.text.strip()\n",
    "    units.append(unit)\n",
    "facts_df=pd.DataFrame({\"Measuments\": measurements,\n",
    "                      \"Units\": units})\n",
    "facts_df    "
   ]
  },
  {
   "cell_type": "code",
   "execution_count": null,
   "metadata": {},
   "outputs": [],
   "source": [
    "#Convert extracted table to Html string\n",
    "fact_tbl_html=facts_df.to_html(header=False, index=False)\n",
    "fact_tbl_html"
   ]
  },
  {
   "cell_type": "markdown",
   "metadata": {},
   "source": [
    "Mars Hemispheres"
   ]
  },
  {
   "cell_type": "code",
   "execution_count": null,
   "metadata": {},
   "outputs": [],
   "source": [
    "#Website access\n",
    "hemi_url = 'https://astrogeology.usgs.gov/maps/mars-viking-hemisphere-point-perspectives/'\n",
    "\n",
    "browser.visit(hemi_url)\n"
   ]
  },
  {
   "cell_type": "code",
   "execution_count": null,
   "metadata": {},
   "outputs": [],
   "source": [
    "#HTML n Soup Object\n",
    "html = browser.html\n",
    "soup = BeautifulSoup(html,'html.parser')\n",
    "hemi = soup.find_all('div', class_='decription')"
   ]
  },
  {
   "cell_type": "code",
   "execution_count": null,
   "metadata": {},
   "outputs": [],
   "source": [
    "#Main Website Access\n",
    "main_img_url= 'https://astrogeology.usgs.gov/search/map/Mars/Viking/'\n"
   ]
  },
  {
   "cell_type": "code",
   "execution_count": null,
   "metadata": {},
   "outputs": [],
   "source": [
    "#Create a list\n",
    "hemi_img_url=[]\n"
   ]
  },
  {
   "cell_type": "code",
   "execution_count": null,
   "metadata": {},
   "outputs": [],
   "source": [
    "#Loop through list items and create a dictionary\n",
    "for x in hemi:\n",
    "    title=x.find('h3').text\n",
    "    title_end_url=str(title)\n",
    "#Hemisphere Title string lower case and join with underscore to get a working webpage\n",
    "    title_end_url.lower()\n",
    "    '_'.join(title_end_url)\n",
    "    joined_img_url=('main_img_url'+'title_end_url')\n",
    "    browser.visit(joined_img_url)\n",
    "    joined_img_url=browser.html\n",
    "    soup_1 = BeautifulSoup(joined_img_url, 'html.parser')\n",
    "    img_url = joined_img_url + soup_1.find('img', class_='wide-image')['src']\n",
    "    \n",
    "    #Save image url and title\n",
    "    img_data = requests.get('title','img_url').content\n",
    "    with open('img', 'wide-image') as handler:\n",
    "        handler.write(img_data)\n",
    "\n",
    "    \n",
    "    #Append the dictionary and print output\n",
    "    hemi_img_url.append({\"title\": title, \"img_url\" : img_url })\n",
    "    hemi_img_url\n",
    "    \n",
    "    \n",
    "    \n",
    "    "
   ]
  },
  {
   "cell_type": "code",
   "execution_count": null,
   "metadata": {},
   "outputs": [],
   "source": []
  }
 ],
 "metadata": {
  "kernelspec": {
   "display_name": "Python 3",
   "language": "python",
   "name": "python3"
  },
  "language_info": {
   "codemirror_mode": {
    "name": "ipython",
    "version": 3
   },
   "file_extension": ".py",
   "mimetype": "text/x-python",
   "name": "python",
   "nbconvert_exporter": "python",
   "pygments_lexer": "ipython3",
   "version": "3.6.7"
  }
 },
 "nbformat": 4,
 "nbformat_minor": 2
}
